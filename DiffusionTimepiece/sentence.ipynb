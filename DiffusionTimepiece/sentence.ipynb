{
 "cells": [
  {
   "cell_type": "code",
   "execution_count": 1,
   "id": "edfe8980-35e5-4b2b-aeaf-77349bf76a5a",
   "metadata": {},
   "outputs": [
    {
     "data": {
      "text/plain": [
       "True"
      ]
     },
     "execution_count": 1,
     "metadata": {},
     "output_type": "execute_result"
    }
   ],
   "source": [
    "import pandas as pd \n",
    "import numpy as np \n",
    "import openai\n",
    "from openai import OpenAI\n",
    "import os\n",
    "\n",
    "# our code and script\n",
    "from utils.helpers import dill_load, dill_save\n",
    "from dotenv import load_dotenv\n",
    "load_dotenv()"
   ]
  },
  {
   "cell_type": "code",
   "execution_count": 2,
   "id": "c35856ee-ad47-411e-b89a-445efb9e14b7",
   "metadata": {},
   "outputs": [],
   "source": [
    "client = OpenAI(api_key=os.getenv('OPENAI_KEY'))"
   ]
  },
  {
   "cell_type": "code",
   "execution_count": 3,
   "id": "63d55c6d-c331-47d7-9def-d024461b0a95",
   "metadata": {},
   "outputs": [],
   "source": [
    "dataframe = pd.read_csv('data/watches.csv')\n",
    "descriptions = dataframe['description'].values"
   ]
  },
  {
   "cell_type": "code",
   "execution_count": 4,
   "id": "a2c76f65-415e-4b03-9c9f-e0ba521b465b",
   "metadata": {},
   "outputs": [],
   "source": [
    "def gpt_sentence(descriptions):\n",
    "    df_sentence = pd.DataFrame(columns = ['sentence'])\n",
    "    for description in descriptions:\n",
    "        prompt = f'Write a sentence of about 50 words describing a watch, taking into account the visual features based on the following description and bullet points: {description}'\n",
    "        agent = client.chat.completions.create(model = 'gpt-3.5-turbo', \n",
    "                                     messages = [{'role': 'user', \n",
    "                                                 'content' : prompt}])\n",
    "        sentence = agent.choices[0].message.content\n",
    "        df_sentence = pd.concat([df_sentence, pd.DataFrame([sentence], columns = ['sentence'])])\n",
    "    return df_sentence "
   ]
  },
  {
   "cell_type": "code",
   "execution_count": 5,
   "id": "b224172f-49ee-4e24-923e-77c56b9088bb",
   "metadata": {},
   "outputs": [],
   "source": [
    "df_sentence = gpt_sentence(descriptions)"
   ]
  },
  {
   "cell_type": "code",
   "execution_count": 6,
   "id": "42dc8dce-e2a2-483e-8aca-eec324635544",
   "metadata": {},
   "outputs": [],
   "source": [
    "df_sentence.reset_index(drop=True, inplace=True)"
   ]
  },
  {
   "cell_type": "code",
   "execution_count": 7,
   "id": "7723d743-c0e2-44c4-b8c6-eda061f21c1e",
   "metadata": {},
   "outputs": [],
   "source": [
    "df_final = pd.concat([dataframe, df_sentence], axis = 1)"
   ]
  },
  {
   "cell_type": "code",
   "execution_count": 8,
   "id": "e97dd1d0-5e05-4e6c-8ad9-24d6f6249ef2",
   "metadata": {},
   "outputs": [],
   "source": [
    "df_final.to_csv('data/gpt_sentences.csv', index = None)"
   ]
  }
 ],
 "metadata": {
  "kernelspec": {
   "display_name": "Python 3 (ipykernel)",
   "language": "python",
   "name": "python3"
  },
  "language_info": {
   "codemirror_mode": {
    "name": "ipython",
    "version": 3
   },
   "file_extension": ".py",
   "mimetype": "text/x-python",
   "name": "python",
   "nbconvert_exporter": "python",
   "pygments_lexer": "ipython3",
   "version": "3.9.18"
  }
 },
 "nbformat": 4,
 "nbformat_minor": 5
}
