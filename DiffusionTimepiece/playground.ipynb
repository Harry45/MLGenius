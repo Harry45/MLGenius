{
 "cells": [
  {
   "cell_type": "code",
   "execution_count": 14,
   "id": "467c3fa2-6e18-4a3c-8e55-7820940b6c47",
   "metadata": {},
   "outputs": [],
   "source": [
    "import os\n",
    "from zenrows import ZenRowsClient\n",
    "from bs4 import BeautifulSoup\n",
    "from utils.helpers import dill_save, dill_load \n",
    "from dotenv import load_dotenv\n",
    "import pandas as pd\n",
    "import numpy as np "
   ]
  },
  {
   "cell_type": "code",
   "execution_count": 2,
   "id": "ce435174-fb3a-4f96-afbe-cc664af333d3",
   "metadata": {},
   "outputs": [],
   "source": [
    "load_dotenv()\n",
    "API_KEY = os.getenv('API_KEY')"
   ]
  },
  {
   "cell_type": "code",
   "execution_count": 3,
   "id": "1449b6cb-7480-4a13-b3b4-975dfce82ebd",
   "metadata": {},
   "outputs": [],
   "source": [
    "client = ZenRowsClient(API_KEY)"
   ]
  },
  {
   "cell_type": "code",
   "execution_count": 4,
   "id": "dee0c601-58ee-4be6-8359-906b52f4bcfa",
   "metadata": {},
   "outputs": [],
   "source": [
    "def get_main_page(pagenumber):\n",
    "    url = f\"https://www.houseofwatches.co.uk/mens-watches/?p={pagenumber}\"\n",
    "    response = client.get(url)\n",
    "    dill_save(response.text, 'data/web', f'page_{pagenumber}')"
   ]
  },
  {
   "cell_type": "markdown",
   "id": "72505340-553b-4853-89bc-8db5841a622d",
   "metadata": {},
   "source": [
    "# Scrape Main Information"
   ]
  },
  {
   "cell_type": "code",
   "execution_count": 100,
   "id": "2345b8c0-3353-4e14-8162-75c0694e263b",
   "metadata": {},
   "outputs": [],
   "source": [
    "# for i in range(117):\n",
    "#     get_main_page(i+1)"
   ]
  },
  {
   "cell_type": "markdown",
   "id": "17d7c005-23d6-46a3-84f8-d01e699ccbf0",
   "metadata": {},
   "source": [
    "# Get Main Information"
   ]
  },
  {
   "cell_type": "code",
   "execution_count": 37,
   "id": "4b29cfad-8e6f-495f-ba49-17ded304003e",
   "metadata": {},
   "outputs": [
    {
     "name": "stderr",
     "output_type": "stream",
     "text": [
      "/tmp/ipykernel_802293/1786410744.py:7: MarkupResemblesLocatorWarning: The input looks more like a filename than markup. You may want to open this file and pass the filehandle into Beautiful Soup.\n",
      "  soup = BeautifulSoup(testing, 'html.parser')\n"
     ]
    }
   ],
   "source": [
    "cols = ['Brand', 'Name', 'Original Price', 'Discounted Price', 'Link']\n",
    "dataframe = pd.DataFrame(columns = cols)\n",
    "for pagenumber in range(117):\n",
    "    testing = dill_load('data/web', f'page_{pagenumber + 1}')\n",
    "    \n",
    "    # Parse the HTML\n",
    "    soup = BeautifulSoup(testing, 'html.parser')\n",
    "    \n",
    "    # Find all product grid items\n",
    "    product_grid_items = soup.find_all(class_='product-grid-item__details')\n",
    "\n",
    "    # Iterate through each product grid item\n",
    "    for item in product_grid_items:\n",
    "        # Extract brand\n",
    "        brand = item.find(class_='product-brand').text.strip()\n",
    "        \n",
    "        # Extract name\n",
    "        name = item.find(class_='product-grid-item__name').text.strip()\n",
    "        \n",
    "        # Extract price\n",
    "        price = item.find(class_='price-final_price').text.strip()\n",
    "        price = price.replace(\"\\n\", \"\").split(' ')\n",
    "        if len(price) == 2:\n",
    "            original_price = price[0]\n",
    "            discounted_price = price[1]\n",
    "        else:\n",
    "            original_price = price[0]\n",
    "            discounted_price = ''\n",
    "            \n",
    "        # Extract link\n",
    "        link = item.find('a')['href']\n",
    "\n",
    "        data = [brand, name, original_price, discounted_price, link]\n",
    "        df = pd.DataFrame(data).T\n",
    "        df.columns = cols\n",
    "        dataframe = pd.concat([dataframe, df])"
   ]
  },
  {
   "cell_type": "code",
   "execution_count": 38,
   "id": "649d2e2e-315d-4bbb-8154-72ca7c056d17",
   "metadata": {},
   "outputs": [],
   "source": [
    "dataframe.reset_index(drop=True, inplace=True)\n",
    "dataframe.to_csv('data/main.csv')"
   ]
  },
  {
   "cell_type": "markdown",
   "id": "70c79b5d-4e61-49b9-ac8b-7009dba34011",
   "metadata": {},
   "source": [
    "# Get image and description"
   ]
  },
  {
   "cell_type": "code",
   "execution_count": 64,
   "id": "b19fe161-6931-4a28-822e-c894bb53d3a2",
   "metadata": {},
   "outputs": [],
   "source": [
    "def get_product_details(url, index = 0):\n",
    "    html_content = client.get(url)\n",
    "    try:\n",
    "        soup = BeautifulSoup(html_content.text, 'html.parser')\n",
    "        # Extract image link\n",
    "        image_tag = soup.find('div', class_ = 'main-gallery').find('img')\n",
    "        if image_tag:\n",
    "            image_link = image_tag['src']\n",
    "        \n",
    "        # Extract product details\n",
    "        details_div = soup.find('div', class_='product-details-text')\n",
    "        if details_div:\n",
    "            product_details = details_div.text.strip()\n",
    "    \n",
    "        dill_save({'description': product_details, 'image': image_link}, 'data/watchinfo', f'watch_{index}')\n",
    "        \n",
    "        return product_details, image_link    \n",
    "    except:\n",
    "        return None, None"
   ]
  },
  {
   "cell_type": "code",
   "execution_count": 58,
   "id": "ec6fc8fb-6f34-4caa-90e3-bedfdbfb2f27",
   "metadata": {},
   "outputs": [
    {
     "data": {
      "text/html": [
       "<div>\n",
       "<style scoped>\n",
       "    .dataframe tbody tr th:only-of-type {\n",
       "        vertical-align: middle;\n",
       "    }\n",
       "\n",
       "    .dataframe tbody tr th {\n",
       "        vertical-align: top;\n",
       "    }\n",
       "\n",
       "    .dataframe thead th {\n",
       "        text-align: right;\n",
       "    }\n",
       "</style>\n",
       "<table border=\"1\" class=\"dataframe\">\n",
       "  <thead>\n",
       "    <tr style=\"text-align: right;\">\n",
       "      <th></th>\n",
       "      <th>Brand</th>\n",
       "      <th>Name</th>\n",
       "      <th>Original Price</th>\n",
       "      <th>Discounted Price</th>\n",
       "      <th>Link</th>\n",
       "    </tr>\n",
       "  </thead>\n",
       "  <tbody>\n",
       "    <tr>\n",
       "      <th>0</th>\n",
       "      <td>Casio</td>\n",
       "      <td>Vintage Silver Watch AQ-230A-7AMQYES</td>\n",
       "      <td>£44.90</td>\n",
       "      <td>£37.95</td>\n",
       "      <td>https://www.houseofwatches.co.uk/casio-vintage...</td>\n",
       "    </tr>\n",
       "    <tr>\n",
       "      <th>1</th>\n",
       "      <td>Citizen</td>\n",
       "      <td>Mens Chronograph Bracelet Watch AT2121-50E</td>\n",
       "      <td>£329.00</td>\n",
       "      <td>£196.99</td>\n",
       "      <td>https://www.houseofwatches.co.uk/citizen-mens-...</td>\n",
       "    </tr>\n",
       "    <tr>\n",
       "      <th>2</th>\n",
       "      <td>Seiko</td>\n",
       "      <td>Presage Cocktail Time Mojito Automatic Strap W...</td>\n",
       "      <td>£400.00</td>\n",
       "      <td>£379.95</td>\n",
       "      <td>https://www.houseofwatches.co.uk/seiko-presage...</td>\n",
       "    </tr>\n",
       "    <tr>\n",
       "      <th>3</th>\n",
       "      <td>Swatch</td>\n",
       "      <td>What If Mint Bioceramic Watch SO34G701</td>\n",
       "      <td>£96.00</td>\n",
       "      <td>£91.95</td>\n",
       "      <td>https://www.houseofwatches.co.uk/swatch-what-i...</td>\n",
       "    </tr>\n",
       "    <tr>\n",
       "      <th>4</th>\n",
       "      <td>Tissot</td>\n",
       "      <td>Mens T-Sport Chrono Xl Classic Blue Dial Brace...</td>\n",
       "      <td>£385.00</td>\n",
       "      <td>£354.95</td>\n",
       "      <td>https://www.houseofwatches.co.uk/tissot-mens-c...</td>\n",
       "    </tr>\n",
       "  </tbody>\n",
       "</table>\n",
       "</div>"
      ],
      "text/plain": [
       "     Brand                                               Name Original Price  \\\n",
       "0    Casio               Vintage Silver Watch AQ-230A-7AMQYES         £44.90   \n",
       "1  Citizen         Mens Chronograph Bracelet Watch AT2121-50E        £329.00   \n",
       "2    Seiko  Presage Cocktail Time Mojito Automatic Strap W...        £400.00   \n",
       "3   Swatch             What If Mint Bioceramic Watch SO34G701         £96.00   \n",
       "4   Tissot  Mens T-Sport Chrono Xl Classic Blue Dial Brace...        £385.00   \n",
       "\n",
       "  Discounted Price                                               Link  \n",
       "0           £37.95  https://www.houseofwatches.co.uk/casio-vintage...  \n",
       "1          £196.99  https://www.houseofwatches.co.uk/citizen-mens-...  \n",
       "2          £379.95  https://www.houseofwatches.co.uk/seiko-presage...  \n",
       "3           £91.95  https://www.houseofwatches.co.uk/swatch-what-i...  \n",
       "4          £354.95  https://www.houseofwatches.co.uk/tissot-mens-c...  "
      ]
     },
     "execution_count": 58,
     "metadata": {},
     "output_type": "execute_result"
    }
   ],
   "source": [
    "dataframe.head()"
   ]
  },
  {
   "cell_type": "code",
   "execution_count": 66,
   "id": "c580ff78-0cba-4e8e-a65a-2d31df417ac8",
   "metadata": {},
   "outputs": [
    {
     "name": "stderr",
     "output_type": "stream",
     "text": [
      "/tmp/ipykernel_802293/1976967888.py:4: MarkupResemblesLocatorWarning: The input looks more like a filename than markup. You may want to open this file and pass the filehandle into Beautiful Soup.\n",
      "  soup = BeautifulSoup(html_content.text, 'html.parser')\n"
     ]
    }
   ],
   "source": [
    "for index, link in enumerate(dataframe['Link'].values[42:]):\n",
    "    details, image = get_product_details(url=link, index = index+42)"
   ]
  },
  {
   "cell_type": "code",
   "execution_count": null,
   "id": "e103383d-b57c-4d82-8165-a36bdb8909b1",
   "metadata": {},
   "outputs": [],
   "source": []
  }
 ],
 "metadata": {
  "kernelspec": {
   "display_name": "Python 3 (ipykernel)",
   "language": "python",
   "name": "python3"
  },
  "language_info": {
   "codemirror_mode": {
    "name": "ipython",
    "version": 3
   },
   "file_extension": ".py",
   "mimetype": "text/x-python",
   "name": "python",
   "nbconvert_exporter": "python",
   "pygments_lexer": "ipython3",
   "version": "3.9.18"
  }
 },
 "nbformat": 4,
 "nbformat_minor": 5
}
